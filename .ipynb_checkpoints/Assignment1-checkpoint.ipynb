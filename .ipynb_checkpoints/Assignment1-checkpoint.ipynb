{
 "cells": [
  {
   "cell_type": "code",
   "execution_count": 17,
   "id": "bbf3e425-075c-4b36-b9ac-fbe2246389d0",
   "metadata": {},
   "outputs": [],
   "source": [
    "def github() -> str:\n",
    " \n",
    "    return \"https://github.com/AlisonH0/Econ-481.git\""
   ]
  },
  {
   "cell_type": "code",
   "execution_count": 44,
   "id": "6d09da9f-0783-475a-a8e7-b07a5fe7d96a",
   "metadata": {},
   "outputs": [
    {
     "data": {
      "text/plain": [
       "{'evens': 2, 'odds': 4}"
      ]
     },
     "execution_count": 44,
     "metadata": {},
     "output_type": "execute_result"
    }
   ],
   "source": [
    "#Excercise 2\n",
    "def evens_and_odds(n: int) -> dict:\n",
    "    evens = 0\n",
    "    odds = 0\n",
    "    for i in range(n):\n",
    "        if i % 2 == 0:\n",
    "            evens += i\n",
    "        else:\n",
    "            odds += i\n",
    "    dict = {\n",
    "        'evens': evens,\n",
    "        'odds' : odds\n",
    "    }\n",
    "    return dict\n",
    "\n",
    "evens_and_odds(4)"
   ]
  },
  {
   "cell_type": "code",
   "execution_count": 45,
   "id": "4c1d54bd-1132-4ffa-b745-b3521b0c4eea",
   "metadata": {},
   "outputs": [
    {
     "data": {
      "text/plain": [
       "'There are 2 days between the two dates'"
      ]
     },
     "execution_count": 45,
     "metadata": {},
     "output_type": "execute_result"
    }
   ],
   "source": [
    "#Excercise 3\n",
    "from typing import Union\n",
    "from datetime import datetime, date, time, timedelta\n",
    "\n",
    "def time_diff(date_1: str, date_2: str, out: str) -> Union[str,float]:\n",
    "    dt1 = datetime.strptime(date_1, \"%Y-%m-%d\")\n",
    "    dt2 = datetime.strptime(date_2, \"%Y-%m-%d\")\n",
    "\n",
    "    timeDiff = dt2 - dt1\n",
    "    result = abs(timeDiff.days)\n",
    "    \n",
    "    if isinstance(out, str):\n",
    "        return \"There are \" + str(result) + \" days between the two dates\"\n",
    "\n",
    "    return result\n",
    "\n",
    "#time_diff('2020-01-01', '2020-01-02', 'float')\n",
    "time_diff('2020-01-03', '2020-01-01', 'string')"
   ]
  },
  {
   "cell_type": "code",
   "execution_count": 41,
   "id": "fd42d84b-33b5-444b-90a5-ca41b67379e2",
   "metadata": {},
   "outputs": [
    {
     "data": {
      "text/plain": [
       "['c', 'b', 'a']"
      ]
     },
     "execution_count": 41,
     "metadata": {},
     "output_type": "execute_result"
    }
   ],
   "source": [
    "def reverse(in_list: list) -> list:\n",
    "\n",
    "    list2 = []\n",
    "    \n",
    "    for i in range(len(in_list)-1, -1, -1):\n",
    "        list2.append(in_list[i])\n",
    "    \n",
    "    return list2\n",
    "\n",
    "reverse(['a', 'b', 'c'])"
   ]
  },
  {
   "cell_type": "code",
   "execution_count": 16,
   "id": "01ebce4f-a8e2-4109-af31-833992377d77",
   "metadata": {},
   "outputs": [
    {
     "data": {
      "text/plain": [
       "0.009765625"
      ]
     },
     "execution_count": 16,
     "metadata": {},
     "output_type": "execute_result"
    }
   ],
   "source": [
    "#Excercise 5\n",
    "def prob_k_heads(n: int, k: int) -> float: # n > k\n",
    "    nFact = kFact = diffFact = probK = probDiff = 1.\n",
    "    diff = n-k\n",
    "    \n",
    "    for i in range(1, n+1):\n",
    "        nFact *= i\n",
    "    for i in range(1, k+1):\n",
    "        kFact *= i\n",
    "        probK *= 0.5\n",
    "    for i in range(1, diff+1):\n",
    "        diffFact *= i\n",
    "        probDiff *= 0.5\n",
    "        \n",
    "    result = nFact/(kFact*diffFact)\n",
    "    return result*probK*probDiff\n"
   ]
  },
  {
   "cell_type": "code",
   "execution_count": null,
   "id": "fc160723-067f-4d78-9302-6f3ead274c0b",
   "metadata": {},
   "outputs": [],
   "source": []
  }
 ],
 "metadata": {
  "kernelspec": {
   "display_name": "Python 3 (ipykernel)",
   "language": "python",
   "name": "python3"
  },
  "language_info": {
   "codemirror_mode": {
    "name": "ipython",
    "version": 3
   },
   "file_extension": ".py",
   "mimetype": "text/x-python",
   "name": "python",
   "nbconvert_exporter": "python",
   "pygments_lexer": "ipython3",
   "version": "3.10.13"
  }
 },
 "nbformat": 4,
 "nbformat_minor": 5
}
